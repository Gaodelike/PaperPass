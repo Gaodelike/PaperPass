{
 "cells": [
  {
   "cell_type": "code",
   "execution_count": 10,
   "metadata": {},
   "outputs": [],
   "source": [
    "import pandas as pd\n",
    "import numpy as np\n",
    "import matplotlib.pyplot as plt"
   ]
  },
  {
   "cell_type": "code",
   "execution_count": 3,
   "metadata": {},
   "outputs": [
    {
     "data": {
      "text/html": [
       "<div>\n",
       "<style scoped>\n",
       "    .dataframe tbody tr th:only-of-type {\n",
       "        vertical-align: middle;\n",
       "    }\n",
       "\n",
       "    .dataframe tbody tr th {\n",
       "        vertical-align: top;\n",
       "    }\n",
       "\n",
       "    .dataframe thead th {\n",
       "        text-align: right;\n",
       "    }\n",
       "</style>\n",
       "<table border=\"1\" class=\"dataframe\">\n",
       "  <thead>\n",
       "    <tr style=\"text-align: right;\">\n",
       "      <th></th>\n",
       "      <th>userId</th>\n",
       "      <th>movieId</th>\n",
       "      <th>rating</th>\n",
       "    </tr>\n",
       "  </thead>\n",
       "  <tbody>\n",
       "    <tr>\n",
       "      <th>0</th>\n",
       "      <td>1</td>\n",
       "      <td>2</td>\n",
       "      <td>3.5</td>\n",
       "    </tr>\n",
       "    <tr>\n",
       "      <th>1</th>\n",
       "      <td>1</td>\n",
       "      <td>29</td>\n",
       "      <td>3.5</td>\n",
       "    </tr>\n",
       "    <tr>\n",
       "      <th>2</th>\n",
       "      <td>1</td>\n",
       "      <td>32</td>\n",
       "      <td>3.5</td>\n",
       "    </tr>\n",
       "    <tr>\n",
       "      <th>3</th>\n",
       "      <td>1</td>\n",
       "      <td>47</td>\n",
       "      <td>3.5</td>\n",
       "    </tr>\n",
       "    <tr>\n",
       "      <th>4</th>\n",
       "      <td>1</td>\n",
       "      <td>50</td>\n",
       "      <td>3.5</td>\n",
       "    </tr>\n",
       "  </tbody>\n",
       "</table>\n",
       "</div>"
      ],
      "text/plain": [
       "   userId  movieId  rating\n",
       "0       1        2     3.5\n",
       "1       1       29     3.5\n",
       "2       1       32     3.5\n",
       "3       1       47     3.5\n",
       "4       1       50     3.5"
      ]
     },
     "execution_count": 3,
     "metadata": {},
     "output_type": "execute_result"
    }
   ],
   "source": [
    "# 读取rating.csv，读取的列为：userId，movieId，rating\n",
    "df_data = pd.read_csv('./data/rating.csv',sep=',',usecols=['userId','movieId','rating'])\n",
    "# 打印前5行\n",
    "df_data.head()"
   ]
  },
  {
   "cell_type": "code",
   "execution_count": 4,
   "metadata": {},
   "outputs": [
    {
     "data": {
      "text/plain": [
       "296    67310\n",
       "356    66172\n",
       "318    63366\n",
       "593    63299\n",
       "480    59715\n",
       "Name: movieId, dtype: int64"
      ]
     },
     "execution_count": 4,
     "metadata": {},
     "output_type": "execute_result"
    }
   ],
   "source": [
    "# 每个电影id对应的打分次数\n",
    "movie_rating_count = df_data['movieId'].value_counts()\n",
    "# 打印前5行\n",
    "movie_rating_count.head()"
   ]
  },
  {
   "cell_type": "code",
   "execution_count": 11,
   "metadata": {},
   "outputs": [
    {
     "name": "stdout",
     "output_type": "stream",
     "text": [
      "0    67310\n",
      "1    66172\n",
      "2    63366\n",
      "3    63299\n",
      "4    59715\n",
      "Name: movieId, dtype: int64\n"
     ]
    },
    {
     "data": {
      "image/png": "[encoded data removed]",
      "text/plain": [
       "<Figure size 432x288 with 1 Axes>"
      ]
     },
     "metadata": {
      "needs_background": "light"
     },
     "output_type": "display_data"
    }
   ],
   "source": [
    "# 深度拷贝一个movie_rating_count\n",
    "movie_rating_count2  = movie_rating_count.copy()\n",
    "# 重置索引，方便画图\n",
    "movie_rating_count2.index = range(movie_rating_count.count())\n",
    "print(movie_rating_count2.head())\n",
    "# 横坐标为充值后的索引，纵坐标为打分次数\n",
    "plt.plot(movie_rating_count2.index,movie_rating_count2)\n",
    "plt.xlabel('Rating Count')\n",
    "plt.ylabel('Movie Index')\n",
    "plt.title('Movie Rating Count')\n",
    "plt.show()"
   ]
  },
  {
   "cell_type": "code",
   "execution_count": 12,
   "metadata": {},
   "outputs": [
    {
     "name": "stdout",
     "output_type": "stream",
     "text": [
      "123607    1\n",
      "90823     1\n",
      "123609    1\n",
      "123613    1\n",
      "131136    1\n",
      "Name: movieId, dtype: int64\n",
      "最大的商品id： 131262\n",
      "总打分数是： 20000263\n",
      "参与评论的电影数量： 26744\n"
     ]
    }
   ],
   "source": [
    "print(movie_rating_count.tail())\n",
    "# 数据集中出现的最大的电影id\n",
    "movie_id_max = movie_rating_count.index.max()\n",
    "print('最大的商品id：',movie_id_max)\n",
    "\n",
    "# 总打分数\n",
    "total_rating_count = sum(movie_rating_count)\n",
    "print('总打分数是：',total_rating_count)\n",
    "\n",
    "# 参与评论的电影数量：movie_quantity = len(movie_rating_count)也可以\n",
    "movie_quantity = movie_rating_count.count()\n",
    "print('参与评论的电影数量：',movie_quantity)"
   ]
  },
  {
   "cell_type": "markdown",
   "metadata": {},
   "source": [
    "\n",
    "$$\n",
    "信息熵：H = -\\sum_{i=1}^n p(i)\\log p(i)\n",
    "$$"
   ]
  },
  {
   "cell_type": "code",
   "execution_count": 7,
   "metadata": {
    "scrolled": true
   },
   "outputs": [
    {
     "name": "stdout",
     "output_type": "stream",
     "text": [
      "8.029825085551415\n"
     ]
    }
   ],
   "source": [
    "# 计算信息熵\n",
    "h = 0\n",
    "for rating_count in movie_rating_count:\n",
    "    p = rating_count / total_rating_count\n",
    "    logp = np.log(p)\n",
    "    h += -1 * p * logp\n",
    "print(h)"
   ]
  },
  {
   "cell_type": "markdown",
   "metadata": {},
   "source": [
    "\n",
    "$$\n",
    "基尼系数：G = \\frac {1} {n-1} \\sum_{j=1}^n (2j-n-1)p(i_j)\n",
    "$$"
   ]
  },
  {
   "cell_type": "code",
   "execution_count": 8,
   "metadata": {},
   "outputs": [
    {
     "name": "stdout",
     "output_type": "stream",
     "text": [
      "0.9029762612602118\n"
     ]
    }
   ],
   "source": [
    "# 计算基尼指数\n",
    "gini_index = 0\n",
    "for index in range(len(movie_rating_count)):\n",
    "    p = movie_rating_count.iloc[index] / total_rating_count\n",
    "    # j是根据流行度从小到大排列的列表中，第j个电影，而movie_rating_count中是根据打分次数从大到小排列的\n",
    "    j = movie_quantity - index\n",
    "    gini_index += (2 * j - movie_quantity -1) * p\n",
    "gini_index = gini_index / (movie_quantity - 1)\n",
    "print(gini_index)"
   ]
  },
  {
   "cell_type": "code",
   "execution_count": 9,
   "metadata": {},
   "outputs": [
    {
     "name": "stdout",
     "output_type": "stream",
     "text": [
      "0.20374518139293932\n"
     ]
    }
   ],
   "source": [
    "# 计算覆盖度，这里把电影id的最大值记为总电影数目，把评分过的电影，记为推荐过的电影\n",
    "coverage = movie_quantity / movie_id_max\n",
    "print(coverage)"
   ]
  }
 ],
 "metadata": {
  "kernelspec": {
   "display_name": "Python 3",
   "language": "python",
   "name": "python3"
  },
  "language_info": {
   "codemirror_mode": {
    "name": "ipython",
    "version": 3
   },
   "file_extension": ".py",
   "mimetype": "text/x-python",
   "name": "python",
   "nbconvert_exporter": "python",
   "pygments_lexer": "ipython3",
   "version": "3.7.4"
  }
 },
 "nbformat": 4,
 "nbformat_minor": 2
}
